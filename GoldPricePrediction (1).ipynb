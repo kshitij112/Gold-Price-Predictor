{
  "nbformat": 4,
  "nbformat_minor": 0,
  "metadata": {
    "colab": {
      "name": "GoldPricePrediction.ipynb",
      "provenance": [],
      "collapsed_sections": []
    },
    "kernelspec": {
      "name": "python3",
      "display_name": "Python 3"
    },
    "language_info": {
      "name": "python"
    }
  },
  "cells": [
    {
      "cell_type": "code",
      "execution_count": 64,
      "metadata": {
        "id": "_gB4YPMhYQhf"
      },
      "outputs": [],
      "source": [
        "import numpy as np\n",
        "import pandas as pd\n",
        "import matplotlib.pyplot as plt\n",
        "import seaborn as sns\n",
        "from sklearn.model_selection import train_test_split\n",
        "from sklearn.ensemble import RandomForestRegressor\n",
        "from sklearn import metrics"
      ]
    },
    {
      "cell_type": "markdown",
      "source": [
        "# **Data Collection and Processing** \n"
      ],
      "metadata": {
        "id": "Ucda8lsyc70m"
      }
    },
    {
      "cell_type": "code",
      "source": [
        "data = pd.read_csv('/content/drive/MyDrive/data/gold_price.csv')"
      ],
      "metadata": {
        "id": "hDBy6Milc7oT"
      },
      "execution_count": 65,
      "outputs": []
    },
    {
      "cell_type": "code",
      "source": [
        "data.head()"
      ],
      "metadata": {
        "colab": {
          "base_uri": "https://localhost:8080/",
          "height": 206
        },
        "id": "7r2eEXJZdKLI",
        "outputId": "385c0c3c-ff9c-40af-ff66-9d6791d73af0"
      },
      "execution_count": 66,
      "outputs": [
        {
          "output_type": "execute_result",
          "data": {
            "text/plain": [
              "         Date  USD (AM)  USD (PM)  GBP (AM)  GBP (PM)  EURO (AM)  EURO (PM)\n",
              "0  2001-01-02    272.80    271.10   183.026   181.617    288.677    287.334\n",
              "1  2001-01-03    269.00    267.15   178.916   177.390    281.823    281.655\n",
              "2  2001-01-04    268.75    267.10   178.869   178.352    282.538    282.049\n",
              "3  2001-01-05    268.00    267.40   178.488   178.148    280.775    280.882\n",
              "4  2001-01-08    268.60    268.30   178.769   178.664    282.410    282.481"
            ],
            "text/html": [
              "\n",
              "  <div id=\"df-839005e8-77dc-4f28-8f5b-0459ed189015\">\n",
              "    <div class=\"colab-df-container\">\n",
              "      <div>\n",
              "<style scoped>\n",
              "    .dataframe tbody tr th:only-of-type {\n",
              "        vertical-align: middle;\n",
              "    }\n",
              "\n",
              "    .dataframe tbody tr th {\n",
              "        vertical-align: top;\n",
              "    }\n",
              "\n",
              "    .dataframe thead th {\n",
              "        text-align: right;\n",
              "    }\n",
              "</style>\n",
              "<table border=\"1\" class=\"dataframe\">\n",
              "  <thead>\n",
              "    <tr style=\"text-align: right;\">\n",
              "      <th></th>\n",
              "      <th>Date</th>\n",
              "      <th>USD (AM)</th>\n",
              "      <th>USD (PM)</th>\n",
              "      <th>GBP (AM)</th>\n",
              "      <th>GBP (PM)</th>\n",
              "      <th>EURO (AM)</th>\n",
              "      <th>EURO (PM)</th>\n",
              "    </tr>\n",
              "  </thead>\n",
              "  <tbody>\n",
              "    <tr>\n",
              "      <th>0</th>\n",
              "      <td>2001-01-02</td>\n",
              "      <td>272.80</td>\n",
              "      <td>271.10</td>\n",
              "      <td>183.026</td>\n",
              "      <td>181.617</td>\n",
              "      <td>288.677</td>\n",
              "      <td>287.334</td>\n",
              "    </tr>\n",
              "    <tr>\n",
              "      <th>1</th>\n",
              "      <td>2001-01-03</td>\n",
              "      <td>269.00</td>\n",
              "      <td>267.15</td>\n",
              "      <td>178.916</td>\n",
              "      <td>177.390</td>\n",
              "      <td>281.823</td>\n",
              "      <td>281.655</td>\n",
              "    </tr>\n",
              "    <tr>\n",
              "      <th>2</th>\n",
              "      <td>2001-01-04</td>\n",
              "      <td>268.75</td>\n",
              "      <td>267.10</td>\n",
              "      <td>178.869</td>\n",
              "      <td>178.352</td>\n",
              "      <td>282.538</td>\n",
              "      <td>282.049</td>\n",
              "    </tr>\n",
              "    <tr>\n",
              "      <th>3</th>\n",
              "      <td>2001-01-05</td>\n",
              "      <td>268.00</td>\n",
              "      <td>267.40</td>\n",
              "      <td>178.488</td>\n",
              "      <td>178.148</td>\n",
              "      <td>280.775</td>\n",
              "      <td>280.882</td>\n",
              "    </tr>\n",
              "    <tr>\n",
              "      <th>4</th>\n",
              "      <td>2001-01-08</td>\n",
              "      <td>268.60</td>\n",
              "      <td>268.30</td>\n",
              "      <td>178.769</td>\n",
              "      <td>178.664</td>\n",
              "      <td>282.410</td>\n",
              "      <td>282.481</td>\n",
              "    </tr>\n",
              "  </tbody>\n",
              "</table>\n",
              "</div>\n",
              "      <button class=\"colab-df-convert\" onclick=\"convertToInteractive('df-839005e8-77dc-4f28-8f5b-0459ed189015')\"\n",
              "              title=\"Convert this dataframe to an interactive table.\"\n",
              "              style=\"display:none;\">\n",
              "        \n",
              "  <svg xmlns=\"http://www.w3.org/2000/svg\" height=\"24px\"viewBox=\"0 0 24 24\"\n",
              "       width=\"24px\">\n",
              "    <path d=\"M0 0h24v24H0V0z\" fill=\"none\"/>\n",
              "    <path d=\"M18.56 5.44l.94 2.06.94-2.06 2.06-.94-2.06-.94-.94-2.06-.94 2.06-2.06.94zm-11 1L8.5 8.5l.94-2.06 2.06-.94-2.06-.94L8.5 2.5l-.94 2.06-2.06.94zm10 10l.94 2.06.94-2.06 2.06-.94-2.06-.94-.94-2.06-.94 2.06-2.06.94z\"/><path d=\"M17.41 7.96l-1.37-1.37c-.4-.4-.92-.59-1.43-.59-.52 0-1.04.2-1.43.59L10.3 9.45l-7.72 7.72c-.78.78-.78 2.05 0 2.83L4 21.41c.39.39.9.59 1.41.59.51 0 1.02-.2 1.41-.59l7.78-7.78 2.81-2.81c.8-.78.8-2.07 0-2.86zM5.41 20L4 18.59l7.72-7.72 1.47 1.35L5.41 20z\"/>\n",
              "  </svg>\n",
              "      </button>\n",
              "      \n",
              "  <style>\n",
              "    .colab-df-container {\n",
              "      display:flex;\n",
              "      flex-wrap:wrap;\n",
              "      gap: 12px;\n",
              "    }\n",
              "\n",
              "    .colab-df-convert {\n",
              "      background-color: #E8F0FE;\n",
              "      border: none;\n",
              "      border-radius: 50%;\n",
              "      cursor: pointer;\n",
              "      display: none;\n",
              "      fill: #1967D2;\n",
              "      height: 32px;\n",
              "      padding: 0 0 0 0;\n",
              "      width: 32px;\n",
              "    }\n",
              "\n",
              "    .colab-df-convert:hover {\n",
              "      background-color: #E2EBFA;\n",
              "      box-shadow: 0px 1px 2px rgba(60, 64, 67, 0.3), 0px 1px 3px 1px rgba(60, 64, 67, 0.15);\n",
              "      fill: #174EA6;\n",
              "    }\n",
              "\n",
              "    [theme=dark] .colab-df-convert {\n",
              "      background-color: #3B4455;\n",
              "      fill: #D2E3FC;\n",
              "    }\n",
              "\n",
              "    [theme=dark] .colab-df-convert:hover {\n",
              "      background-color: #434B5C;\n",
              "      box-shadow: 0px 1px 3px 1px rgba(0, 0, 0, 0.15);\n",
              "      filter: drop-shadow(0px 1px 2px rgba(0, 0, 0, 0.3));\n",
              "      fill: #FFFFFF;\n",
              "    }\n",
              "  </style>\n",
              "\n",
              "      <script>\n",
              "        const buttonEl =\n",
              "          document.querySelector('#df-839005e8-77dc-4f28-8f5b-0459ed189015 button.colab-df-convert');\n",
              "        buttonEl.style.display =\n",
              "          google.colab.kernel.accessAllowed ? 'block' : 'none';\n",
              "\n",
              "        async function convertToInteractive(key) {\n",
              "          const element = document.querySelector('#df-839005e8-77dc-4f28-8f5b-0459ed189015');\n",
              "          const dataTable =\n",
              "            await google.colab.kernel.invokeFunction('convertToInteractive',\n",
              "                                                     [key], {});\n",
              "          if (!dataTable) return;\n",
              "\n",
              "          const docLinkHtml = 'Like what you see? Visit the ' +\n",
              "            '<a target=\"_blank\" href=https://colab.research.google.com/notebooks/data_table.ipynb>data table notebook</a>'\n",
              "            + ' to learn more about interactive tables.';\n",
              "          element.innerHTML = '';\n",
              "          dataTable['output_type'] = 'display_data';\n",
              "          await google.colab.output.renderOutput(dataTable, element);\n",
              "          const docLink = document.createElement('div');\n",
              "          docLink.innerHTML = docLinkHtml;\n",
              "          element.appendChild(docLink);\n",
              "        }\n",
              "      </script>\n",
              "    </div>\n",
              "  </div>\n",
              "  "
            ]
          },
          "metadata": {},
          "execution_count": 66
        }
      ]
    },
    {
      "cell_type": "code",
      "source": [
        "data.tail()\n"
      ],
      "metadata": {
        "id": "wH7LEW5WdRRp",
        "colab": {
          "base_uri": "https://localhost:8080/",
          "height": 206
        },
        "outputId": "671c8242-a426-4c78-87bb-e24d91178a5f"
      },
      "execution_count": 67,
      "outputs": [
        {
          "output_type": "execute_result",
          "data": {
            "text/plain": [
              "            Date  USD (AM)  USD (PM)  GBP (AM)  GBP (PM)  EURO (AM)  EURO (PM)\n",
              "4676  2019-08-27   1531.85   1532.95   1250.91   1247.51    1378.97    1380.88\n",
              "4677  2019-08-28   1541.75   1537.15   1263.31   1258.77    1389.89    1387.43\n",
              "4678  2019-08-29   1536.65   1540.20   1260.51   1262.96    1387.29    1392.03\n",
              "4679  2019-08-30   1526.55   1528.40   1253.14   1251.15    1382.75    1383.51\n",
              "4680  2019-09-02   1523.35   1525.95   1260.42   1265.01    1388.69    1391.51"
            ],
            "text/html": [
              "\n",
              "  <div id=\"df-903f21c9-be88-4f88-9af3-8efac9ab5125\">\n",
              "    <div class=\"colab-df-container\">\n",
              "      <div>\n",
              "<style scoped>\n",
              "    .dataframe tbody tr th:only-of-type {\n",
              "        vertical-align: middle;\n",
              "    }\n",
              "\n",
              "    .dataframe tbody tr th {\n",
              "        vertical-align: top;\n",
              "    }\n",
              "\n",
              "    .dataframe thead th {\n",
              "        text-align: right;\n",
              "    }\n",
              "</style>\n",
              "<table border=\"1\" class=\"dataframe\">\n",
              "  <thead>\n",
              "    <tr style=\"text-align: right;\">\n",
              "      <th></th>\n",
              "      <th>Date</th>\n",
              "      <th>USD (AM)</th>\n",
              "      <th>USD (PM)</th>\n",
              "      <th>GBP (AM)</th>\n",
              "      <th>GBP (PM)</th>\n",
              "      <th>EURO (AM)</th>\n",
              "      <th>EURO (PM)</th>\n",
              "    </tr>\n",
              "  </thead>\n",
              "  <tbody>\n",
              "    <tr>\n",
              "      <th>4676</th>\n",
              "      <td>2019-08-27</td>\n",
              "      <td>1531.85</td>\n",
              "      <td>1532.95</td>\n",
              "      <td>1250.91</td>\n",
              "      <td>1247.51</td>\n",
              "      <td>1378.97</td>\n",
              "      <td>1380.88</td>\n",
              "    </tr>\n",
              "    <tr>\n",
              "      <th>4677</th>\n",
              "      <td>2019-08-28</td>\n",
              "      <td>1541.75</td>\n",
              "      <td>1537.15</td>\n",
              "      <td>1263.31</td>\n",
              "      <td>1258.77</td>\n",
              "      <td>1389.89</td>\n",
              "      <td>1387.43</td>\n",
              "    </tr>\n",
              "    <tr>\n",
              "      <th>4678</th>\n",
              "      <td>2019-08-29</td>\n",
              "      <td>1536.65</td>\n",
              "      <td>1540.20</td>\n",
              "      <td>1260.51</td>\n",
              "      <td>1262.96</td>\n",
              "      <td>1387.29</td>\n",
              "      <td>1392.03</td>\n",
              "    </tr>\n",
              "    <tr>\n",
              "      <th>4679</th>\n",
              "      <td>2019-08-30</td>\n",
              "      <td>1526.55</td>\n",
              "      <td>1528.40</td>\n",
              "      <td>1253.14</td>\n",
              "      <td>1251.15</td>\n",
              "      <td>1382.75</td>\n",
              "      <td>1383.51</td>\n",
              "    </tr>\n",
              "    <tr>\n",
              "      <th>4680</th>\n",
              "      <td>2019-09-02</td>\n",
              "      <td>1523.35</td>\n",
              "      <td>1525.95</td>\n",
              "      <td>1260.42</td>\n",
              "      <td>1265.01</td>\n",
              "      <td>1388.69</td>\n",
              "      <td>1391.51</td>\n",
              "    </tr>\n",
              "  </tbody>\n",
              "</table>\n",
              "</div>\n",
              "      <button class=\"colab-df-convert\" onclick=\"convertToInteractive('df-903f21c9-be88-4f88-9af3-8efac9ab5125')\"\n",
              "              title=\"Convert this dataframe to an interactive table.\"\n",
              "              style=\"display:none;\">\n",
              "        \n",
              "  <svg xmlns=\"http://www.w3.org/2000/svg\" height=\"24px\"viewBox=\"0 0 24 24\"\n",
              "       width=\"24px\">\n",
              "    <path d=\"M0 0h24v24H0V0z\" fill=\"none\"/>\n",
              "    <path d=\"M18.56 5.44l.94 2.06.94-2.06 2.06-.94-2.06-.94-.94-2.06-.94 2.06-2.06.94zm-11 1L8.5 8.5l.94-2.06 2.06-.94-2.06-.94L8.5 2.5l-.94 2.06-2.06.94zm10 10l.94 2.06.94-2.06 2.06-.94-2.06-.94-.94-2.06-.94 2.06-2.06.94z\"/><path d=\"M17.41 7.96l-1.37-1.37c-.4-.4-.92-.59-1.43-.59-.52 0-1.04.2-1.43.59L10.3 9.45l-7.72 7.72c-.78.78-.78 2.05 0 2.83L4 21.41c.39.39.9.59 1.41.59.51 0 1.02-.2 1.41-.59l7.78-7.78 2.81-2.81c.8-.78.8-2.07 0-2.86zM5.41 20L4 18.59l7.72-7.72 1.47 1.35L5.41 20z\"/>\n",
              "  </svg>\n",
              "      </button>\n",
              "      \n",
              "  <style>\n",
              "    .colab-df-container {\n",
              "      display:flex;\n",
              "      flex-wrap:wrap;\n",
              "      gap: 12px;\n",
              "    }\n",
              "\n",
              "    .colab-df-convert {\n",
              "      background-color: #E8F0FE;\n",
              "      border: none;\n",
              "      border-radius: 50%;\n",
              "      cursor: pointer;\n",
              "      display: none;\n",
              "      fill: #1967D2;\n",
              "      height: 32px;\n",
              "      padding: 0 0 0 0;\n",
              "      width: 32px;\n",
              "    }\n",
              "\n",
              "    .colab-df-convert:hover {\n",
              "      background-color: #E2EBFA;\n",
              "      box-shadow: 0px 1px 2px rgba(60, 64, 67, 0.3), 0px 1px 3px 1px rgba(60, 64, 67, 0.15);\n",
              "      fill: #174EA6;\n",
              "    }\n",
              "\n",
              "    [theme=dark] .colab-df-convert {\n",
              "      background-color: #3B4455;\n",
              "      fill: #D2E3FC;\n",
              "    }\n",
              "\n",
              "    [theme=dark] .colab-df-convert:hover {\n",
              "      background-color: #434B5C;\n",
              "      box-shadow: 0px 1px 3px 1px rgba(0, 0, 0, 0.15);\n",
              "      filter: drop-shadow(0px 1px 2px rgba(0, 0, 0, 0.3));\n",
              "      fill: #FFFFFF;\n",
              "    }\n",
              "  </style>\n",
              "\n",
              "      <script>\n",
              "        const buttonEl =\n",
              "          document.querySelector('#df-903f21c9-be88-4f88-9af3-8efac9ab5125 button.colab-df-convert');\n",
              "        buttonEl.style.display =\n",
              "          google.colab.kernel.accessAllowed ? 'block' : 'none';\n",
              "\n",
              "        async function convertToInteractive(key) {\n",
              "          const element = document.querySelector('#df-903f21c9-be88-4f88-9af3-8efac9ab5125');\n",
              "          const dataTable =\n",
              "            await google.colab.kernel.invokeFunction('convertToInteractive',\n",
              "                                                     [key], {});\n",
              "          if (!dataTable) return;\n",
              "\n",
              "          const docLinkHtml = 'Like what you see? Visit the ' +\n",
              "            '<a target=\"_blank\" href=https://colab.research.google.com/notebooks/data_table.ipynb>data table notebook</a>'\n",
              "            + ' to learn more about interactive tables.';\n",
              "          element.innerHTML = '';\n",
              "          dataTable['output_type'] = 'display_data';\n",
              "          await google.colab.output.renderOutput(dataTable, element);\n",
              "          const docLink = document.createElement('div');\n",
              "          docLink.innerHTML = docLinkHtml;\n",
              "          element.appendChild(docLink);\n",
              "        }\n",
              "      </script>\n",
              "    </div>\n",
              "  </div>\n",
              "  "
            ]
          },
          "metadata": {},
          "execution_count": 67
        }
      ]
    },
    {
      "cell_type": "code",
      "source": [
        "# number of rows and columns\n",
        "data.shape\n"
      ],
      "metadata": {
        "colab": {
          "base_uri": "https://localhost:8080/"
        },
        "id": "RWpr1DlCBJCd",
        "outputId": "c7f16771-5deb-4398-af29-f4c1c02a7cee"
      },
      "execution_count": 68,
      "outputs": [
        {
          "output_type": "execute_result",
          "data": {
            "text/plain": [
              "(4681, 7)"
            ]
          },
          "metadata": {},
          "execution_count": 68
        }
      ]
    },
    {
      "cell_type": "code",
      "source": [
        "# getting some basic informations about the data\n",
        "data.info()\n"
      ],
      "metadata": {
        "colab": {
          "base_uri": "https://localhost:8080/"
        },
        "id": "TVvUcBWTBQC7",
        "outputId": "798d766b-f1ec-4478-cfd5-7d4198eaad5e"
      },
      "execution_count": 69,
      "outputs": [
        {
          "output_type": "stream",
          "name": "stdout",
          "text": [
            "<class 'pandas.core.frame.DataFrame'>\n",
            "RangeIndex: 4681 entries, 0 to 4680\n",
            "Data columns (total 7 columns):\n",
            " #   Column     Non-Null Count  Dtype  \n",
            "---  ------     --------------  -----  \n",
            " 0   Date       4681 non-null   object \n",
            " 1   USD (AM)   4681 non-null   float64\n",
            " 2   USD (PM)   4681 non-null   float64\n",
            " 3   GBP (AM)   4681 non-null   float64\n",
            " 4   GBP (PM)   4681 non-null   float64\n",
            " 5   EURO (AM)  4681 non-null   float64\n",
            " 6   EURO (PM)  4681 non-null   float64\n",
            "dtypes: float64(6), object(1)\n",
            "memory usage: 256.1+ KB\n"
          ]
        }
      ]
    },
    {
      "cell_type": "code",
      "source": [
        "# checking the number of missing values\n",
        "data.isnull().sum()"
      ],
      "metadata": {
        "colab": {
          "base_uri": "https://localhost:8080/"
        },
        "id": "Xj-wHdPbBU9i",
        "outputId": "aa6aa97f-42dd-465b-d2c9-d3c3fa1e765c"
      },
      "execution_count": 70,
      "outputs": [
        {
          "output_type": "execute_result",
          "data": {
            "text/plain": [
              "Date         0\n",
              "USD (AM)     0\n",
              "USD (PM)     0\n",
              "GBP (AM)     0\n",
              "GBP (PM)     0\n",
              "EURO (AM)    0\n",
              "EURO (PM)    0\n",
              "dtype: int64"
            ]
          },
          "metadata": {},
          "execution_count": 70
        }
      ]
    },
    {
      "cell_type": "code",
      "source": [
        "# getting the statistical measures of the data\n",
        "data.describe()"
      ],
      "metadata": {
        "colab": {
          "base_uri": "https://localhost:8080/",
          "height": 300
        },
        "id": "X3oKOoLnHpha",
        "outputId": "560ea96a-9daf-4c7d-b1df-be259775d3d2"
      },
      "execution_count": 71,
      "outputs": [
        {
          "output_type": "execute_result",
          "data": {
            "text/plain": [
              "          USD (AM)     USD (PM)     GBP (AM)     GBP (PM)    EURO (AM)  \\\n",
              "count  4681.000000  4681.000000  4681.000000  4681.000000  4681.000000   \n",
              "mean    960.176811   959.877590   625.178971   625.016988   774.060372   \n",
              "std     449.587174   449.419618   324.589024   324.513514   351.655676   \n",
              "min     256.700000   255.950000   176.572000   176.441000   276.711000   \n",
              "25%     449.100000   448.650000   244.558000   244.483000   361.367000   \n",
              "50%    1113.250000  1112.750000   717.411000   716.297000   875.887000   \n",
              "75%    1293.900000  1294.300000   939.094000   939.270000  1086.041000   \n",
              "max    1896.500000  1895.000000  1265.900000  1265.010000  1389.890000   \n",
              "\n",
              "         EURO (PM)  \n",
              "count  4681.000000  \n",
              "mean    773.948817  \n",
              "std     351.660739  \n",
              "min     277.667000  \n",
              "25%     361.404000  \n",
              "50%     875.310000  \n",
              "75%    1085.825000  \n",
              "max    1392.030000  "
            ],
            "text/html": [
              "\n",
              "  <div id=\"df-930e1f0f-dac3-4323-a57d-fd6d91a64b4a\">\n",
              "    <div class=\"colab-df-container\">\n",
              "      <div>\n",
              "<style scoped>\n",
              "    .dataframe tbody tr th:only-of-type {\n",
              "        vertical-align: middle;\n",
              "    }\n",
              "\n",
              "    .dataframe tbody tr th {\n",
              "        vertical-align: top;\n",
              "    }\n",
              "\n",
              "    .dataframe thead th {\n",
              "        text-align: right;\n",
              "    }\n",
              "</style>\n",
              "<table border=\"1\" class=\"dataframe\">\n",
              "  <thead>\n",
              "    <tr style=\"text-align: right;\">\n",
              "      <th></th>\n",
              "      <th>USD (AM)</th>\n",
              "      <th>USD (PM)</th>\n",
              "      <th>GBP (AM)</th>\n",
              "      <th>GBP (PM)</th>\n",
              "      <th>EURO (AM)</th>\n",
              "      <th>EURO (PM)</th>\n",
              "    </tr>\n",
              "  </thead>\n",
              "  <tbody>\n",
              "    <tr>\n",
              "      <th>count</th>\n",
              "      <td>4681.000000</td>\n",
              "      <td>4681.000000</td>\n",
              "      <td>4681.000000</td>\n",
              "      <td>4681.000000</td>\n",
              "      <td>4681.000000</td>\n",
              "      <td>4681.000000</td>\n",
              "    </tr>\n",
              "    <tr>\n",
              "      <th>mean</th>\n",
              "      <td>960.176811</td>\n",
              "      <td>959.877590</td>\n",
              "      <td>625.178971</td>\n",
              "      <td>625.016988</td>\n",
              "      <td>774.060372</td>\n",
              "      <td>773.948817</td>\n",
              "    </tr>\n",
              "    <tr>\n",
              "      <th>std</th>\n",
              "      <td>449.587174</td>\n",
              "      <td>449.419618</td>\n",
              "      <td>324.589024</td>\n",
              "      <td>324.513514</td>\n",
              "      <td>351.655676</td>\n",
              "      <td>351.660739</td>\n",
              "    </tr>\n",
              "    <tr>\n",
              "      <th>min</th>\n",
              "      <td>256.700000</td>\n",
              "      <td>255.950000</td>\n",
              "      <td>176.572000</td>\n",
              "      <td>176.441000</td>\n",
              "      <td>276.711000</td>\n",
              "      <td>277.667000</td>\n",
              "    </tr>\n",
              "    <tr>\n",
              "      <th>25%</th>\n",
              "      <td>449.100000</td>\n",
              "      <td>448.650000</td>\n",
              "      <td>244.558000</td>\n",
              "      <td>244.483000</td>\n",
              "      <td>361.367000</td>\n",
              "      <td>361.404000</td>\n",
              "    </tr>\n",
              "    <tr>\n",
              "      <th>50%</th>\n",
              "      <td>1113.250000</td>\n",
              "      <td>1112.750000</td>\n",
              "      <td>717.411000</td>\n",
              "      <td>716.297000</td>\n",
              "      <td>875.887000</td>\n",
              "      <td>875.310000</td>\n",
              "    </tr>\n",
              "    <tr>\n",
              "      <th>75%</th>\n",
              "      <td>1293.900000</td>\n",
              "      <td>1294.300000</td>\n",
              "      <td>939.094000</td>\n",
              "      <td>939.270000</td>\n",
              "      <td>1086.041000</td>\n",
              "      <td>1085.825000</td>\n",
              "    </tr>\n",
              "    <tr>\n",
              "      <th>max</th>\n",
              "      <td>1896.500000</td>\n",
              "      <td>1895.000000</td>\n",
              "      <td>1265.900000</td>\n",
              "      <td>1265.010000</td>\n",
              "      <td>1389.890000</td>\n",
              "      <td>1392.030000</td>\n",
              "    </tr>\n",
              "  </tbody>\n",
              "</table>\n",
              "</div>\n",
              "      <button class=\"colab-df-convert\" onclick=\"convertToInteractive('df-930e1f0f-dac3-4323-a57d-fd6d91a64b4a')\"\n",
              "              title=\"Convert this dataframe to an interactive table.\"\n",
              "              style=\"display:none;\">\n",
              "        \n",
              "  <svg xmlns=\"http://www.w3.org/2000/svg\" height=\"24px\"viewBox=\"0 0 24 24\"\n",
              "       width=\"24px\">\n",
              "    <path d=\"M0 0h24v24H0V0z\" fill=\"none\"/>\n",
              "    <path d=\"M18.56 5.44l.94 2.06.94-2.06 2.06-.94-2.06-.94-.94-2.06-.94 2.06-2.06.94zm-11 1L8.5 8.5l.94-2.06 2.06-.94-2.06-.94L8.5 2.5l-.94 2.06-2.06.94zm10 10l.94 2.06.94-2.06 2.06-.94-2.06-.94-.94-2.06-.94 2.06-2.06.94z\"/><path d=\"M17.41 7.96l-1.37-1.37c-.4-.4-.92-.59-1.43-.59-.52 0-1.04.2-1.43.59L10.3 9.45l-7.72 7.72c-.78.78-.78 2.05 0 2.83L4 21.41c.39.39.9.59 1.41.59.51 0 1.02-.2 1.41-.59l7.78-7.78 2.81-2.81c.8-.78.8-2.07 0-2.86zM5.41 20L4 18.59l7.72-7.72 1.47 1.35L5.41 20z\"/>\n",
              "  </svg>\n",
              "      </button>\n",
              "      \n",
              "  <style>\n",
              "    .colab-df-container {\n",
              "      display:flex;\n",
              "      flex-wrap:wrap;\n",
              "      gap: 12px;\n",
              "    }\n",
              "\n",
              "    .colab-df-convert {\n",
              "      background-color: #E8F0FE;\n",
              "      border: none;\n",
              "      border-radius: 50%;\n",
              "      cursor: pointer;\n",
              "      display: none;\n",
              "      fill: #1967D2;\n",
              "      height: 32px;\n",
              "      padding: 0 0 0 0;\n",
              "      width: 32px;\n",
              "    }\n",
              "\n",
              "    .colab-df-convert:hover {\n",
              "      background-color: #E2EBFA;\n",
              "      box-shadow: 0px 1px 2px rgba(60, 64, 67, 0.3), 0px 1px 3px 1px rgba(60, 64, 67, 0.15);\n",
              "      fill: #174EA6;\n",
              "    }\n",
              "\n",
              "    [theme=dark] .colab-df-convert {\n",
              "      background-color: #3B4455;\n",
              "      fill: #D2E3FC;\n",
              "    }\n",
              "\n",
              "    [theme=dark] .colab-df-convert:hover {\n",
              "      background-color: #434B5C;\n",
              "      box-shadow: 0px 1px 3px 1px rgba(0, 0, 0, 0.15);\n",
              "      filter: drop-shadow(0px 1px 2px rgba(0, 0, 0, 0.3));\n",
              "      fill: #FFFFFF;\n",
              "    }\n",
              "  </style>\n",
              "\n",
              "      <script>\n",
              "        const buttonEl =\n",
              "          document.querySelector('#df-930e1f0f-dac3-4323-a57d-fd6d91a64b4a button.colab-df-convert');\n",
              "        buttonEl.style.display =\n",
              "          google.colab.kernel.accessAllowed ? 'block' : 'none';\n",
              "\n",
              "        async function convertToInteractive(key) {\n",
              "          const element = document.querySelector('#df-930e1f0f-dac3-4323-a57d-fd6d91a64b4a');\n",
              "          const dataTable =\n",
              "            await google.colab.kernel.invokeFunction('convertToInteractive',\n",
              "                                                     [key], {});\n",
              "          if (!dataTable) return;\n",
              "\n",
              "          const docLinkHtml = 'Like what you see? Visit the ' +\n",
              "            '<a target=\"_blank\" href=https://colab.research.google.com/notebooks/data_table.ipynb>data table notebook</a>'\n",
              "            + ' to learn more about interactive tables.';\n",
              "          element.innerHTML = '';\n",
              "          dataTable['output_type'] = 'display_data';\n",
              "          await google.colab.output.renderOutput(dataTable, element);\n",
              "          const docLink = document.createElement('div');\n",
              "          docLink.innerHTML = docLinkHtml;\n",
              "          element.appendChild(docLink);\n",
              "        }\n",
              "      </script>\n",
              "    </div>\n",
              "  </div>\n",
              "  "
            ]
          },
          "metadata": {},
          "execution_count": 71
        }
      ]
    },
    {
      "cell_type": "markdown",
      "metadata": {
        "id": "f9SUQ8hodW4b"
      },
      "source": [
        "# **Correlation:**\n",
        "# **1. Positive Correlation**\n",
        "# **2. Negative Correlation**"
      ]
    },
    {
      "cell_type": "code",
      "source": [
        "correlation = data.corr()"
      ],
      "metadata": {
        "id": "eRB8w9OJN7R2"
      },
      "execution_count": 72,
      "outputs": []
    },
    {
      "cell_type": "code",
      "source": [
        "# constructing a heatmap to understand the correlatiom\n",
        "plt.figure(figsize = (8,8))\n",
        "sns.heatmap(correlation, cbar=True, square=True, fmt='.1f',annot=True, annot_kws={'size':8}, cmap='Blues')"
      ],
      "metadata": {
        "colab": {
          "base_uri": "https://localhost:8080/",
          "height": 487
        },
        "id": "bKqDi0NGOCTf",
        "outputId": "2eb583ec-4264-4d83-fc26-0955b7d44c40"
      },
      "execution_count": 73,
      "outputs": [
        {
          "output_type": "execute_result",
          "data": {
            "text/plain": [
              "<matplotlib.axes._subplots.AxesSubplot at 0x7f271eb11310>"
            ]
          },
          "metadata": {},
          "execution_count": 73
        },
        {
          "output_type": "display_data",
          "data": {
            "text/plain": [
              "<Figure size 576x576 with 2 Axes>"
            ],
            "image/png": "[encoded data removed]"
          },
          "metadata": {
            "needs_background": "light"
          }
        }
      ]
    },
    {
      "cell_type": "code",
      "source": [
        "# correlation values of USD (AM)\n",
        "print(correlation['USD (AM)'])\n"
      ],
      "metadata": {
        "colab": {
          "base_uri": "https://localhost:8080/"
        },
        "id": "Hllc5LpfOISu",
        "outputId": "f0580d0e-2f94-46ee-f983-822d840b44ea"
      },
      "execution_count": 74,
      "outputs": [
        {
          "output_type": "stream",
          "name": "stdout",
          "text": [
            "USD (AM)     1.000000\n",
            "USD (PM)     0.999892\n",
            "GBP (AM)     0.970442\n",
            "GBP (PM)     0.970326\n",
            "EURO (AM)    0.971761\n",
            "EURO (PM)    0.971678\n",
            "Name: USD (AM), dtype: float64\n"
          ]
        }
      ]
    },
    {
      "cell_type": "code",
      "source": [
        "# checking the distribution of the USD (AM) Price\n",
        "sns.distplot(data['USD (AM)'],color='orange')"
      ],
      "metadata": {
        "colab": {
          "base_uri": "https://localhost:8080/",
          "height": 351
        },
        "id": "HUw0Bs2sONya",
        "outputId": "5a74ccec-46f9-4561-d658-d7be8dd0ffd1"
      },
      "execution_count": 75,
      "outputs": [
        {
          "output_type": "stream",
          "name": "stderr",
          "text": [
            "/usr/local/lib/python3.7/dist-packages/seaborn/distributions.py:2619: FutureWarning: `distplot` is a deprecated function and will be removed in a future version. Please adapt your code to use either `displot` (a figure-level function with similar flexibility) or `histplot` (an axes-level function for histograms).\n",
            "  warnings.warn(msg, FutureWarning)\n"
          ]
        },
        {
          "output_type": "execute_result",
          "data": {
            "text/plain": [
              "<matplotlib.axes._subplots.AxesSubplot at 0x7f271e9ebc10>"
            ]
          },
          "metadata": {},
          "execution_count": 75
        },
        {
          "output_type": "display_data",
          "data": {
            "text/plain": [
              "<Figure size 432x288 with 1 Axes>"
            ],
            "image/png": "[encoded data removed]"
          },
          "metadata": {
            "needs_background": "light"
          }
        }
      ]
    },
    {
      "cell_type": "markdown",
      "metadata": {
        "id": "4bdwLbPEfqWI"
      },
      "source": [
        "# **Splitting the Features and Target**"
      ]
    },
    {
      "cell_type": "code",
      "source": [
        "X = data.drop(['Date','USD (AM)'],axis=1)\n",
        "Y = data['USD (AM)']"
      ],
      "metadata": {
        "id": "3vjhVoj_OfX8"
      },
      "execution_count": 76,
      "outputs": []
    },
    {
      "cell_type": "code",
      "source": [
        "print(X)"
      ],
      "metadata": {
        "colab": {
          "base_uri": "https://localhost:8080/"
        },
        "id": "d8ZVhg6ePBAs",
        "outputId": "4b0b6fce-49e9-47c0-81a8-d835262c3867"
      },
      "execution_count": 77,
      "outputs": [
        {
          "output_type": "stream",
          "name": "stdout",
          "text": [
            "      USD (PM)  GBP (AM)  GBP (PM)  EURO (AM)  EURO (PM)\n",
            "0       271.10   183.026   181.617    288.677    287.334\n",
            "1       267.15   178.916   177.390    281.823    281.655\n",
            "2       267.10   178.869   178.352    282.538    282.049\n",
            "3       267.40   178.488   178.148    280.775    280.882\n",
            "4       268.30   178.769   178.664    282.410    282.481\n",
            "...        ...       ...       ...        ...        ...\n",
            "4676   1532.95  1250.910  1247.510   1378.970   1380.880\n",
            "4677   1537.15  1263.310  1258.770   1389.890   1387.430\n",
            "4678   1540.20  1260.510  1262.960   1387.290   1392.030\n",
            "4679   1528.40  1253.140  1251.150   1382.750   1383.510\n",
            "4680   1525.95  1260.420  1265.010   1388.690   1391.510\n",
            "\n",
            "[4681 rows x 5 columns]\n"
          ]
        }
      ]
    },
    {
      "cell_type": "code",
      "source": [
        "print(Y)"
      ],
      "metadata": {
        "colab": {
          "base_uri": "https://localhost:8080/"
        },
        "id": "vL5G1noTPFTW",
        "outputId": "0ef48ca1-8b19-4c44-edd5-6a014e5a54ff"
      },
      "execution_count": 78,
      "outputs": [
        {
          "output_type": "stream",
          "name": "stdout",
          "text": [
            "0        272.80\n",
            "1        269.00\n",
            "2        268.75\n",
            "3        268.00\n",
            "4        268.60\n",
            "         ...   \n",
            "4676    1531.85\n",
            "4677    1541.75\n",
            "4678    1536.65\n",
            "4679    1526.55\n",
            "4680    1523.35\n",
            "Name: USD (AM), Length: 4681, dtype: float64\n"
          ]
        }
      ]
    },
    {
      "cell_type": "code",
      "source": [
        ""
      ],
      "metadata": {
        "id": "VEl4g-i2PHQw"
      },
      "execution_count": 78,
      "outputs": []
    },
    {
      "cell_type": "markdown",
      "metadata": {
        "id": "nv8UohBVgE1Z"
      },
      "source": [
        "# **Splitting into Training data and Test Data**"
      ]
    },
    {
      "cell_type": "code",
      "metadata": {
        "id": "KkrUByFugBUn"
      },
      "source": [
        "X_train, X_test, Y_train, Y_test = train_test_split(X, Y, test_size = 0.2, random_state=2)"
      ],
      "execution_count": 79,
      "outputs": []
    },
    {
      "cell_type": "markdown",
      "metadata": {
        "id": "1vrCHktWgqfi"
      },
      "source": [
        "# **Model Training:**\n",
        "# **Random Forest Regressor**"
      ]
    },
    {
      "cell_type": "code",
      "source": [
        "regressor = RandomForestRegressor(n_estimators=100)"
      ],
      "metadata": {
        "id": "1Xcu4b9GUmHL"
      },
      "execution_count": 80,
      "outputs": []
    },
    {
      "cell_type": "code",
      "source": [
        "# training the model\n",
        "regressor.fit(X_train,Y_train)"
      ],
      "metadata": {
        "colab": {
          "base_uri": "https://localhost:8080/"
        },
        "id": "AOE_ZIMBUp_j",
        "outputId": "cb85ef16-f4ea-4b28-cb4d-3a74e43761bc"
      },
      "execution_count": 81,
      "outputs": [
        {
          "output_type": "execute_result",
          "data": {
            "text/plain": [
              "RandomForestRegressor()"
            ]
          },
          "metadata": {},
          "execution_count": 81
        }
      ]
    },
    {
      "cell_type": "markdown",
      "metadata": {
        "id": "SHNFVsr4hbG2"
      },
      "source": [
        "# **Model Evaluation**"
      ]
    },
    {
      "cell_type": "code",
      "source": [
        "# prediction on Test Data\n",
        "test_data_prediction = regressor.predict(X_test)"
      ],
      "metadata": {
        "id": "ZwSIGPicUtQ4"
      },
      "execution_count": 82,
      "outputs": []
    },
    {
      "cell_type": "code",
      "source": [
        "print(test_data_prediction)"
      ],
      "metadata": {
        "colab": {
          "base_uri": "https://localhost:8080/"
        },
        "id": "rRngOmSWUxwz",
        "outputId": "89fbfc35-b466-4049-ed72-a19bb39307e8"
      },
      "execution_count": 83,
      "outputs": [
        {
          "output_type": "stream",
          "name": "stdout",
          "text": [
            "[1161.3225 1212.559  1128.1445 1371.865  1200.3165 1651.7625 1152.252\n",
            "  610.3535  545.0415 1275.6895  785.004  1356.097   624.958   385.4905\n",
            " 1463.719   798.235   414.869   269.597   657.1195 1126.5555  890.5025\n",
            " 1383.705   268.996   746.371   681.001   279.8825  298.9235  857.4275\n",
            "  373.706   870.387   677.355   790.858   398.4925 1213.9595 1135.9905\n",
            "  317.46   1337.721  1210.883   266.906  1307.811  1578.89   1099.0815\n",
            " 1247.9175 1282.004   408.165  1335.896   297.8875  413.667   432.553\n",
            "  421.6625  286.0495 1600.29    343.8115 1211.8525 1400.649   346.449\n",
            "  468.3     387.2555  344.497  1223.5875 1284.986  1180.761  1450.1575\n",
            "  921.8325  320.303  1772.375  1335.799  1327.415   360.448  1768.97\n",
            " 1205.121  1297.31    555.4435  626.6875 1406.29   1499.7525  273.423\n",
            "  989.755  1533.047  1233.0545 1407.595  1316.6665  433.528  1230.24\n",
            "  673.7405  257.7535  306.9975  740.6725 1078.121  1098.8195 1272.7025\n",
            "  661.916  1185.9145  258.708   922.508  1260.5585 1426.4175 1647.045\n",
            " 1313.573  1291.5295  264.8775  664.939   424.9595  885.532   311.8035\n",
            "  376.9395 1718.825  1333.5575  362.105  1519.68   1186.496  1287.319\n",
            " 1282.13   1125.455  1536.818  1721.6975 1266.1185  266.5945  828.4695\n",
            " 1502.7895  414.814   364.4475 1367.944   655.213   428.5145  409.4575\n",
            " 1325.3515 1811.3625 1235.699   547.907  1204.4835 1619.705   671.454\n",
            "  556.1445  397.454   618.126  1644.94   1272.45   1218.527   469.595\n",
            "  943.04    632.913   405.582   417.659   383.782   297.932   955.8925\n",
            " 1204.0505 1284.8265  822.9525  359.112  1341.777  1755.455  1341.6585\n",
            " 1216.1925  322.2595  269.421  1225.0465  325.507  1646.25   1315.79\n",
            "  910.6975 1237.445   866.4225 1754.455   424.9075  654.8085 1097.0275\n",
            " 1576.2375 1183.5605  673.41   1208.165   273.221   266.1135  905.596\n",
            " 1138.3385  703.8405  911.445  1247.1005  395.546   300.12   1293.508\n",
            "  269.152   909.557  1232.2265 1285.0445 1150.786   597.4665  373.494\n",
            "  625.758  1185.5585  973.676   280.0035  961.105  1377.6525  370.6675\n",
            " 1220.935  1339.7235 1201.3     365.593   274.2685 1201.7095 1397.8475\n",
            "  297.3165  564.73    298.3405  463.2245  384.42    408.4385 1722.89\n",
            " 1041.99    906.5475 1196.311  1254.311  1084.641  1067.9145 1198.065\n",
            " 1200.098  1358.6495 1410.4085  655.9325 1252.1665  553.768  1287.468\n",
            " 1667.7425  259.024   644.9305  470.051   392.6695  312.8205 1285.4255\n",
            " 1315.381  1203.735  1283.683   426.082   926.8765  593.231  1697.205\n",
            "  951.3775  403.4435  737.343   278.7645  397.404   933.5375  363.2325\n",
            "  412.2245 1224.5505 1198.326  1198.3675 1564.42   1200.2945  272.4405\n",
            "  451.4725 1192.676  1181.656   419.8355 1723.9875  279.85    686.672\n",
            "  275.8105  896.314  1088.466  1192.9305 1286.2875  308.428   544.391\n",
            "  268.075   666.2225 1232.7725 1590.29   1210.492  1149.2375  383.1645\n",
            " 1388.65    626.8895  316.6805 1389.9175  336.803   643.824   418.795\n",
            "  359.2825 1390.1225  335.94    935.9525 1187.539   628.201   403.0005\n",
            "  415.658   419.9065 1198.834  1292.8205 1173.094  1064.235  1273.292\n",
            " 1093.2025 1130.942   425.281  1260.535   395.1305 1310.4035 1333.963\n",
            "  593.5315 1164.4325 1092.559  1670.8175 1247.2355  282.4745  394.413\n",
            "  337.301  1749.24   1740.8725 1354.569  1657.02    937.7325  427.2225\n",
            " 1212.281  1336.13   1282.1985 1166.1665 1578.94    881.632   427.1975\n",
            "  652.1065 1231.4985  557.2685  278.677  1248.674   426.557  1432.7115\n",
            "  317.1205  970.22   1292.291  1187.9415  418.72    321.7475  341.713\n",
            " 1536.222  1299.0295  260.347  1105.506  1100.514  1309.1225  415.5875\n",
            "  936.7525 1322.26    882.393  1201.295  1184.2805 1304.178   791.361\n",
            " 1329.4795  285.5555 1336.3075  652.024  1613.225  1068.3435 1283.7245\n",
            " 1562.88    937.0475  260.0075  280.0185 1290.4935 1321.9965  571.7635\n",
            "  663.305   736.6625  353.442   584.8035 1692.6325  923.725   574.883\n",
            "  737.0105 1235.056   935.9075  423.9935 1299.6055 1179.655  1609.7975\n",
            " 1303.7275 1500.5035  292.5535  556.202   353.696  1271.6645  411.2365\n",
            "  972.83   1493.6025  291.022   451.507  1262.9365  625.8165 1498.7255\n",
            " 1070.0445 1668.5675  343.982   290.723  1119.241  1240.9895 1223.0135\n",
            "  732.6935 1187.2275 1254.225   551.5605  919.0925  266.789   469.2915\n",
            "  654.7145  628.4485 1576.9     540.0625 1266.672  1692.335   352.2035\n",
            "  739.195  1272.7745 1233.1115 1655.33    354.953  1750.0075 1655.8175\n",
            " 1648.3525 1275.586  1746.75   1540.895   792.579  1394.425  1410.957\n",
            "  991.4975 1211.079   344.293   396.0725 1231.124  1325.0615 1257.494\n",
            " 1161.4705 1166.5235  374.8485  303.2505  424.8165  275.2855  446.813\n",
            " 1659.6975  802.4625 1289.6875  306.85    876.312   617.579   317.8915\n",
            "  400.4575 1237.3565 1313.4455  952.575  1248.2275  943.3725  403.1835\n",
            "  625.4325 1781.1075  905.663   436.679   629.1025  425.051   372.5925\n",
            " 1293.072  1243.3265 1254.4025 1156.3325  433.1595 1181.094  1247.4625\n",
            " 1593.5775 1232.7485 1116.27    876.7325  687.2015  685.6815  654.3365\n",
            "  423.53   1216.857   646.113  1258.1875  303.0845 1316.4875 1720.81\n",
            " 1691.7275 1286.765  1174.4765  879.04   1246.2315  333.277  1115.024\n",
            " 1692.3325 1249.618  1337.8205 1292.8295 1212.251  1192.1625 1282.183\n",
            " 1201.3225 1483.07   1223.606   770.9625 1674.7725  751.428  1312.34\n",
            "  268.2185 1148.2825 1279.6635  798.0055 1324.862   266.4115 1231.357\n",
            " 1253.548  1689.4125  432.876  1720.9675  800.205  1274.1465 1102.69\n",
            "  627.73    408.8875  937.115   554.651   427.0055  333.4005 1262.486\n",
            "  805.9325  292.8565  353.4325  348.7405 1241.61    951.67    659.4425\n",
            " 1324.8085 1289.3815  312.081   446.3005  276.152   343.819  1273.295\n",
            " 1346.8635  347.075   805.91   1650.6025  316.692  1186.0855 1203.376\n",
            " 1012.7875  282.855  1309.2235  659.7875 1618.885   409.5545 1372.25\n",
            " 1247.478   936.1625 1095.0535  731.492   687.461   291.3875  662.751\n",
            " 1438.2265 1220.6375 1602.92   1273.8     549.87   1233.07    906.0585\n",
            "  659.2465  665.0075 1338.5655  421.2875  821.485   388.9505 1231.9275\n",
            " 1735.155  1261.2875  936.9875 1171.576   464.711  1198.401  1325.2095\n",
            " 1206.78    983.8975  602.23   1665.0675  628.851  1589.1925 1106.2065\n",
            "  627.72   1494.0325 1457.577  1225.4245 1162.7185 1317.7315  426.6755\n",
            "  351.534   259.6785  403.231   278.114  1287.9975  422.0325  923.075\n",
            " 1285.46    433.705  1348.0455 1715.31    290.063   659.5585 1658.305\n",
            " 1247.443   924.7165  432.806   932.9725  591.002   292.801  1750.9\n",
            " 1258.218  1610.7925 1524.3555 1259.942   548.626  1291.5585 1088.6415\n",
            "  442.1345  864.353   426.787  1749.0125  800.175   463.1415 1197.187\n",
            " 1196.94    316.968  1196.5505  409.4705 1274.813   465.529  1322.2385\n",
            "  319.17   1222.595  1279.6955 1316.499   410.554  1293.8535  373.206\n",
            " 1723.88    915.123  1326.61    320.7245 1718.065   421.49    289.9805\n",
            "  409.424   408.8485  663.5405 1091.8065  436.481  1339.747   290.0195\n",
            "  642.783  1374.455  1208.385  1247.638   466.5725  314.4915 1588.025\n",
            "  989.735   976.6525  936.7175 1749.4225 1288.7725 1333.3295 1654.155\n",
            " 1122.1055 1325.7845 1095.869  1320.602  1326.979  1249.6215 1345.826\n",
            " 1233.465  1317.849   336.376  1625.9475 1308.8465 1322.3335  400.812\n",
            " 1237.8835 1214.3805 1582.35    645.722   391.121  1270.493   289.936\n",
            "  544.387  1275.4315  266.176  1248.127  1418.7315 1293.717   282.387\n",
            "  933.8275 1164.2615 1674.6875  854.1025  842.4825 1192.7575  627.4205\n",
            " 1163.7635  269.0855 1240.209   367.313  1152.537   297.993  1319.186\n",
            "  265.2835  407.057  1188.1055  424.3435 1336.5915  279.855   266.162\n",
            "  260.2575  260.021  1274.5165  463.401   313.8215  770.6675  949.3225\n",
            " 1172.035   438.023  1236.7575 1128.672  1302.978  1219.813  1265.2525\n",
            " 1691.3675 1166.013  1274.307   305.457   440.8465  669.936   394.9195\n",
            " 1369.535   311.8775  317.0905 1216.2685  407.1835  625.146  1204.8735\n",
            " 1346.8335  399.326  1369.956  1214.12    577.8585  997.9975 1293.3655\n",
            "  820.8425  418.331   487.817   371.0505 1229.166  1263.3515  258.144\n",
            " 1292.38   1220.819   400.7725  583.939  1293.15   1328.2225 1652.0675\n",
            "  664.639   307.8035  331.119  1114.9045  665.1375  358.605   709.312\n",
            " 1231.0275 1312.315   634.915  1588.635   644.8265 1296.7685  814.9255\n",
            "  386.71    821.61   1244.8015  886.7095  409.418   619.92    378.381\n",
            " 1335.425  1421.6825 1205.2105  316.8085 1298.504   590.6325  401.8575\n",
            " 1321.625   439.5925 1256.155  1576.6625 1228.8045  403.1745 1422.925\n",
            " 1072.4335  271.1325 1125.5765 1329.508   414.5595  877.0035  302.67\n",
            " 1199.108   266.993  1403.037  1347.8555 1350.8025 1366.5505  956.868\n",
            "  758.5155  315.4565  375.0255 1332.538   920.921   619.7825  318.7985\n",
            "  381.26   1256.1205  446.9975  667.8965 1268.7635 1380.014   312.1705\n",
            "  433.2385  426.8415 1404.59    917.828   934.38   1698.1125  547.601\n",
            " 1324.767   343.157   881.09    258.479   262.6735  891.79   1291.052\n",
            "  359.814   370.7795  383.2775  687.9885 1303.003   272.8885 1236.404\n",
            "  438.357  1233.372  1272.058  1419.0565  517.816   922.4735 1323.0915\n",
            " 1294.6465 1188.0575 1183.2665 1188.251  1608.005   697.743  1334.663\n",
            "  769.3725  317.082   273.1815  663.991   308.9965  662.6095 1196.5035\n",
            "  290.816  1312.365  1380.255  1350.985  1236.4175  792.655  1673.6575\n",
            " 1282.692   981.7925 1198.892   446.242  1236.073  1283.9835 1199.6315\n",
            " 1206.8905 1226.3555 1092.504   436.3945 1618.275  1579.85    884.615\n",
            "  385.1045 1501.776   924.17    636.629   626.044   408.374   399.344\n",
            "  396.8565  275.034   591.631  1405.5275 1274.1285  274.9035 1323.9545\n",
            " 1080.8525  361.578  1127.7855  552.885   419.996  1258.6255 1224.311\n",
            "  365.3745  323.3275  653.7785 1227.299  1778.2075  441.621   267.2035\n",
            "  274.4875 1311.6465  730.2945  903.9145  323.26    799.2995 1263.66\n",
            " 1367.505   426.5    1369.847  1316.615  1322.774   362.5525]\n"
          ]
        }
      ]
    },
    {
      "cell_type": "code",
      "source": [
        "# R squared error\n",
        "error_score = metrics.r2_score(Y_test, test_data_prediction)\n",
        "print(\"R squared error : \", error_score)"
      ],
      "metadata": {
        "colab": {
          "base_uri": "https://localhost:8080/"
        },
        "id": "mj3sD0-bU0l7",
        "outputId": "3666e85a-4be2-4fdf-d22c-112ee08726ef"
      },
      "execution_count": 84,
      "outputs": [
        {
          "output_type": "stream",
          "name": "stdout",
          "text": [
            "R squared error :  0.999814768405733\n"
          ]
        }
      ]
    },
    {
      "cell_type": "markdown",
      "metadata": {
        "id": "f1fiqOMkiZNL"
      },
      "source": [
        "# **Compare the Actual Values and Predicted Values in a Plot**"
      ]
    },
    {
      "cell_type": "code",
      "source": [
        "Y_test = list(Y_test)"
      ],
      "metadata": {
        "id": "q_mgzqajU6EG"
      },
      "execution_count": 85,
      "outputs": []
    },
    {
      "cell_type": "code",
      "metadata": {
        "colab": {
          "base_uri": "https://localhost:8080/",
          "height": 295
        },
        "id": "sMSVMVtFijxo",
        "outputId": "d563b772-18e6-4bfc-8765-507f01b41b8f"
      },
      "source": [
        "plt.plot(Y_test, color='blue', label = 'Actual Value')\n",
        "plt.plot(test_data_prediction, color='pink', label='Predicted Value')\n",
        "plt.title('Actual Price vs Predicted Price')\n",
        "plt.xlabel('Number of values')\n",
        "plt.ylabel('GOLD Price')\n",
        "plt.legend()\n",
        "plt.show()"
      ],
      "execution_count": 86,
      "outputs": [
        {
          "output_type": "display_data",
          "data": {
            "text/plain": [
              "<Figure size 432x288 with 1 Axes>"
            ],
            "image/png": "[encoded data removed]"
          },
          "metadata": {
            "needs_background": "light"
          }
        }
      ]
    },
    {
      "cell_type": "code",
      "source": [
        ""
      ],
      "metadata": {
        "id": "daugYs2cawBG"
      },
      "execution_count": 86,
      "outputs": []
    }
  ]
}